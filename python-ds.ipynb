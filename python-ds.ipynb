{
 "cells": [
  {
   "cell_type": "markdown",
   "metadata": {},
   "source": [
    "# Web Mining and Applied NLP (44-620)\n",
    "\n",
    "## Python Notebooks, Basics, and Data Structures\n",
    "\n",
    "### Student Name: Molly Strickland\n",
    "\n",
    "Perform the tasks described in the Markdown cells below.  When you have completed the assignment make sure your code cells have all been run (and have output beneath them) and ensure you have committed and pushed ALL of your changes to your assignment repository.\n",
    "\n",
    "Every question that requires you to write code will have a code cell underneath it; you may either write your entire solution in that cell or write it in a python file (`.py`), then import and run the appropriate code to answer the question.\n",
    "\n",
    "Do not use external modules (`math`, etc) for this assignment unless you are explicitly instructed to, though you may use built in python functions (`min`, `max`, etc) as you wish."
   ]
  },
  {
   "cell_type": "markdown",
   "metadata": {},
   "source": [
    "1. Modify the Markdown cell above to put your name after \"Student Name:\"; you will be expected to do this in all assignments presented in this format for this class."
   ]
  },
  {
   "cell_type": "markdown",
   "metadata": {},
   "source": [
    "2. Write code that divides any two numbers, stores the result in a variable, and prints the result with an appropriate label."
   ]
  },
  {
   "cell_type": "code",
   "execution_count": 7,
   "metadata": {},
   "outputs": [
    {
     "name": "stdout",
     "output_type": "stream",
     "text": [
      "34.33\n"
     ]
    }
   ],
   "source": [
    "a= float(103)\n",
    "b= float(3)\n",
    "x=a/b\n",
    "print(round(x,2))"
   ]
  },
  {
   "cell_type": "markdown",
   "metadata": {},
   "source": [
    "3. Using loops (and potentially conditionals), write Python code that prints the factorial of each integer from 1 through 10 (which you can store in a variable if you want). The factorial of an integer is the product of all of the integers of 1 through the number. Print the result with an appropriate label."
   ]
  },
  {
   "cell_type": "code",
   "execution_count": 13,
   "metadata": {},
   "outputs": [
    {
     "name": "stdout",
     "output_type": "stream",
     "text": [
      "The factorial of 1 is equal to 1\n",
      "The factorial of 2 is equal to 2\n",
      "The factorial of 3 is equal to 6\n",
      "The factorial of 4 is equal to 24\n",
      "The factorial of 5 is equal to 120\n",
      "The factorial of 6 is equal to 720\n",
      "The factorial of 7 is equal to 5040\n",
      "The factorial of 8 is equal to 40320\n",
      "The factorial of 9 is equal to 362880\n",
      "The factorial of 10 is equal to 3628800\n"
     ]
    }
   ],
   "source": [
    "fact=1\n",
    "for i in range(1,11):\n",
    "    fact= fact*i\n",
    "    #can also use f*=i to multiply the previous answer by the next i number\n",
    "    print(f\"The factorial of {i} is equal to {fact}\")\n",
    "    #make sure the print function is in the loop to print all in the list, otherwise it just prints the last one\n"
   ]
  },
  {
   "cell_type": "markdown",
   "metadata": {},
   "source": [
    "4. Write a python function that takes a single parameter and calculates and returns the average (mean) of the values in the parameter (which you may assume is iterable).  Show that your function works by printing the result of calling the function on the list in the cell below."
   ]
  },
  {
   "cell_type": "code",
   "execution_count": 18,
   "metadata": {},
   "outputs": [
    {
     "name": "stdout",
     "output_type": "stream",
     "text": [
      "The sum of the numbers is 0\n",
      "The number of items in the list is 8\n",
      "The average of the number is 0.0\n",
      "The second method also finds the average to equal 0.0\n"
     ]
    }
   ],
   "source": [
    "testlist = [1,-1,2,-2,3,-3,4,-4]\n",
    "total = sum(testlist)\n",
    "n=len(testlist)\n",
    "avg=total/n\n",
    "print(f\"The sum of the numbers is {total}\")\n",
    "print(f\"The number of items in the list is {n}\")\n",
    "print(f'The average of the number is {avg}')\n",
    "\n",
    "#Alternate method\n",
    "total2=0\n",
    "for number in testlist:\n",
    "    total2 += number\n",
    "avg2= total2/n\n",
    "    \n",
    "print(f'The second method also finds the average to equal {avg2}')"
   ]
  },
  {
   "cell_type": "markdown",
   "metadata": {},
   "source": [
    "5. Using your mean function above, write a function that calculates the variance of the list of numbers (see https://en.wikipedia.org/wiki/Variance for more information on the formula). In short:\n",
    "* subtract the mean of the elements in the list from every element in the list; store these values in a new list\n",
    "* square every element in the new list and sum the elements together\n",
    "* divide the resulting number by N (where N is the length of the original list)\n",
    "\n",
    "Show the result of calling your function in the lists in the code cell. You must use one or more list comprehensions or map/filter in your code."
   ]
  },
  {
   "cell_type": "code",
   "execution_count": 19,
   "metadata": {},
   "outputs": [
    {
     "name": "stdout",
     "output_type": "stream",
     "text": [
      "The variance of the first list is:  1.13973309\n",
      "The variance of the second list is:  0.9257232841\n"
     ]
    }
   ],
   "source": [
    "list1 = [ 5.670e-1, -1.480e+0, -5.570e-1, -1.470e+0, 7.340e-1, 1.050e+0, 4.480e-1, 2.570e-1, -1.970e+0, -1.460e+0]\n",
    "list2 = [-1.780e+0, 2.640e-1, 1.160e+0, 9.080e-1, 1.780e+0, 1.080e+0, 1.050e+0, -4.630e-2, 1.520e+0, 5.350e-1]\n",
    "# the variances of both lists should be relatively close to 1 (off by less than .15)\n",
    "\n",
    "def variance(numbers):\n",
    "    n=len(numbers)\n",
    "    if n==0:\n",
    "        return 0 #can not divide by zero so this prevents errors\n",
    "    \n",
    "    total_list=0\n",
    "    for number in numbers:\n",
    "        total_list += number\n",
    "    mean=total_list/n\n",
    "\n",
    "    dist_squared = [(x-mean)**2 for x in numbers]\n",
    "    var = sum(dist_squared)/n\n",
    "    return var\n",
    "\n",
    "result1 = variance(list1)\n",
    "result2 = variance(list2)\n",
    "\n",
    "print(\"The variance of the first list is: \",result1)\n",
    "print(\"The variance of the second list is: \",result2)\n"
   ]
  },
  {
   "cell_type": "markdown",
   "metadata": {},
   "source": [
    "6. Create a list with at least 15 elements in it. Use list slicing to print the following:\n",
    "* The first 5 elements of the list\n",
    "* The last 5 elements of the list\n",
    "* The list reversed (hint, show the entire list with a stride of -1)\n",
    "* Every second element in the list\n",
    "* Every third element in the list (stride of 3)"
   ]
  },
  {
   "cell_type": "code",
   "execution_count": 27,
   "metadata": {},
   "outputs": [
    {
     "name": "stdout",
     "output_type": "stream",
     "text": [
      "The first 5 elemtns of the list are: [7, 14, 21, 28, 35]\n",
      "The last 5 elements of the list are: [77, 84, 91, 98, 105]\n",
      "The list in reverse or is: [105, 98, 91, 84, 77, 70, 63, 56, 49, 42, 35, 28, 21, 14, 7]\n",
      "Every other number in the list is: [14, 28, 42, 56, 70, 84, 98]\n",
      "Every third number in the list is: [21, 42, 63, 84, 105]\n"
     ]
    }
   ],
   "source": [
    "list15=[7,14,21,28,35,42,49,56,63,70,77,84,91,98,105]\n",
    "n15=len(list15)\n",
    "#print(n15)\n",
    "\n",
    "slice_1st5=list15[:5]\n",
    "slice_last5= list15[-5:]\n",
    "slice_reverse= list15[::-1]\n",
    "slice_everyother= list15[1:14:2]\n",
    "slice_every3=list15[2:15:3]\n",
    "\n",
    "print(f'The first 5 elemtns of the list are: {slice_1st5}')\n",
    "print(f'The last 5 elements of the list are: {slice_last5}')\n",
    "print(f'The list in reverse or is: {slice_reverse}')\n",
    "print(f'Every other number in the list is: {slice_everyother}')\n",
    "print(f'Every third number in the list is: {slice_every3}')\n",
    "\n"
   ]
  },
  {
   "cell_type": "markdown",
   "metadata": {},
   "source": [
    "7. Build a dictionary that contains the following information about this class (with appropriate names as keys):\n",
    "* The name\n",
    "* The course number\n",
    "* The semester/term in which you are taking this course\n",
    "* The number of credit hours this course counts for\n",
    "* A list of the course learning objectives\n",
    "\n",
    "The majority of this information can be found in the syllabus. Print the dictionary."
   ]
  },
  {
   "cell_type": "code",
   "execution_count": 35,
   "metadata": {},
   "outputs": [
    {
     "name": "stdout",
     "output_type": "stream",
     "text": [
      "{'Name': 'Web Mining and Applied NLP', 'Course Number': [('CSIS', 44620)], 'Semester enrolled': 'Fall 2024', 'Number of Credit hours': '3', 'Course Learning Objectives': {'L01': ['Manage Python libraries and packages'], 'L02': ['Interact with Hosted Version Control Systems e.g. Git and GitHub'], 'L03': [' Programmatically obtain and transform data from web-based APIs and HTML pages into a usable form'], 'L04': ['Describe the steps in a basic NLP Pipeline'], 'L05': ['Use preexisting tools and software libraries to perform some Natural Language Processing, such as sentiment analysis.'], 'L06': ['Explain results and conclusions drawn from the visualized information']}}\n"
     ]
    }
   ],
   "source": [
    "dic = {'Name': 'Web Mining and Applied NLP',\n",
    "       'Course Number':  [('CSIS',44620)],\n",
    "       'Semester enrolled': 'Fall 2024',\n",
    "       'Number of Credit hours':  '3',\n",
    "       'Course Learning Objectives': {'L01': ['Manage Python libraries and packages'],\n",
    "                                      'L02': ['Interact with Hosted Version Control Systems e.g. Git and GitHub'],\n",
    "                                      'L03': [' Programmatically obtain and transform data from web-based APIs and HTML pages into a usable form'],\n",
    "                                      'L04': ['Describe the steps in a basic NLP Pipeline'],\n",
    "                                      'L05': ['Use preexisting tools and software libraries to perform some Natural Language Processing, such as sentiment analysis.'],\n",
    "                                      'L06': ['Explain results and conclusions drawn from the visualized information']}\n",
    "}\n",
    "\n",
    "print(dic)"
   ]
  },
  {
   "cell_type": "markdown",
   "metadata": {},
   "source": [
    "8.  Given the dictionary defined in the code cell below, print the list of level 3 spells the character has."
   ]
  },
  {
   "cell_type": "code",
   "execution_count": 29,
   "metadata": {},
   "outputs": [
    {
     "name": "stdout",
     "output_type": "stream",
     "text": [
      "The level 3 Spells are:  ['Mass Healing Word', 'Nondetection', 'Revivify', 'Feign Death', 'Speak with Dead']\n",
      "{'name': 'Kitab', 'class': [('Cleric: Knowledge', 7)], 'spells': {'cantrip': ['Guidance', 'Light', 'Thaumaturgy', 'Toll the Dead', 'Word of Radiance'], 'level 1': ['Command', 'Detect Magic', 'Healing Word', 'Identify', 'Sleep'], 'level 2': ['Augury', 'Calm Emotions', 'Command', 'Invisibility', 'Lesser Restoration'], 'level 3': ['Mass Healing Word', 'Nondetection', 'Revivify', 'Feign Death', 'Speak with Dead'], 'level 4': ['Banishment', 'Confusion']}}\n"
     ]
    }
   ],
   "source": [
    "player_character = {'name': 'Kitab',\n",
    "                   'class': [('Cleric: Knowledge', 7)],\n",
    "                   'spells': {'cantrip': ['Guidance', 'Light', 'Thaumaturgy', 'Toll the Dead', 'Word of Radiance'],\n",
    "                             'level 1': ['Command', 'Detect Magic', 'Healing Word', 'Identify', 'Sleep'],\n",
    "                             'level 2': ['Augury', 'Calm Emotions', 'Command', 'Invisibility', 'Lesser Restoration'],\n",
    "                             'level 3': ['Mass Healing Word', 'Nondetection', 'Revivify', 'Feign Death', 'Speak with Dead'],\n",
    "                             'level 4': ['Banishment', 'Confusion']}\n",
    "                   }\n",
    "\n",
    "spells_level3= player_character['spells']['level 3']\n",
    "print(\"The level 3 Spells are: \", spells_level3)\n",
    "\n",
    "print(player_character)"
   ]
  },
  {
   "cell_type": "markdown",
   "metadata": {},
   "source": [
    "9. Write code to determine the number of unique elements in the list below.  You MUST use a set in finding your solution.  Print the number of unique values in the list with an appropriate label."
   ]
  },
  {
   "cell_type": "code",
   "execution_count": 5,
   "metadata": {},
   "outputs": [],
   "source": [
    "values = [10, 11, 10, 8, 1, 12, 0, 1, 6, 5, 5, 13, 6, 15, 0, 0, 1, 1, 9, 7]"
   ]
  },
  {
   "cell_type": "markdown",
   "metadata": {},
   "source": [
    "10. Create a new Jupyter Notebook (the name of the notebook should be your S number). Add a Markdown cell that contains your name. Add a Code cell and write Python that uses loops to draw the following pattern:\n",
    "\n",
    "```\n",
    "*      *\n",
    "**    **\n",
    "***  ***\n",
    "********\n",
    "```\n",
    "Make sure to add and submit both the new notebook and the changes to this notebook for this assignment."
   ]
  }
 ],
 "metadata": {
  "kernelspec": {
   "display_name": "Python 3",
   "language": "python",
   "name": "python3"
  },
  "language_info": {
   "codemirror_mode": {
    "name": "ipython",
    "version": 3
   },
   "file_extension": ".py",
   "mimetype": "text/x-python",
   "name": "python",
   "nbconvert_exporter": "python",
   "pygments_lexer": "ipython3",
   "version": "3.11.9"
  }
 },
 "nbformat": 4,
 "nbformat_minor": 4
}
